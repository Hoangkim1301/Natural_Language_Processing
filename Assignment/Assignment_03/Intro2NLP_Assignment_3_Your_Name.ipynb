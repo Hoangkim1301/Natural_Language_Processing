{
 "cells": [
  {
   "attachments": {},
   "cell_type": "markdown",
   "metadata": {},
   "source": [
    "# Introduction to Natural Language Processing: Assignment 3\n",
    "\n",
    "In this exercise we'll practice features extraction using SpaCy\n",
    "\n",
    "\n",
    "- You can only use built-in Python packages, spaCy and Pandas.\n",
    "- Please comment your code\n",
    "- Submissions are due Sunday at 23:59 **only** on Ilias: **Assignmnets >> Student Submissions >> Assignment 3 (Deadline: 24.05.2022, at 23:59)**\n",
    "\n",
    "- Name the file aproppriately: \"Assignment_3_\\<Your_Name\\>.ipynb\" and submit only the Jupyter Notebook file."
   ]
  },
  {
   "attachments": {},
   "cell_type": "markdown",
   "metadata": {},
   "source": [
    "### Task 1 (2 points)\n",
    "\n",
    "Write a function `find_top_five(my_file_name)` that takes as input a file name, reads its text, converts everything to lower case and returns the five most frequent tokens and their absolute frequency in a Python dictionary. \n",
    "\n",
    "**Note:**\n",
    "\n",
    "You should ignore punctuation and use spaCy for obtaining the tokens\n"
   ]
  },
  {
   "cell_type": "code",
   "execution_count": 2,
   "metadata": {},
   "outputs": [
    {
     "ename": "ImportError",
     "evalue": "urllib3 v2.0 only supports OpenSSL 1.1.1+, currently the 'ssl' module is compiled with LibreSSL 2.8.3. See: https://github.com/urllib3/urllib3/issues/2168",
     "output_type": "error",
     "traceback": [
      "\u001b[0;31m---------------------------------------------------------------------------\u001b[0m",
      "\u001b[0;31mImportError\u001b[0m                               Traceback (most recent call last)",
      "Cell \u001b[0;32mIn[2], line 1\u001b[0m\n\u001b[0;32m----> 1\u001b[0m \u001b[39mimport\u001b[39;00m \u001b[39mspacy\u001b[39;00m\n\u001b[1;32m      2\u001b[0m \u001b[39mdef\u001b[39;00m \u001b[39mfind_top_five\u001b[39m(my_file_name):\n\u001b[1;32m      3\u001b[0m     top_five_tokens \u001b[39m=\u001b[39m {}\n",
      "File \u001b[0;32m~/Library/Python/3.9/lib/python/site-packages/spacy/__init__.py:15\u001b[0m\n\u001b[1;32m     12\u001b[0m \u001b[39mfrom\u001b[39;00m \u001b[39mthinc\u001b[39;00m\u001b[39m.\u001b[39;00m\u001b[39mapi\u001b[39;00m \u001b[39mimport\u001b[39;00m Config\n\u001b[1;32m     14\u001b[0m \u001b[39mfrom\u001b[39;00m \u001b[39m.\u001b[39;00m \u001b[39mimport\u001b[39;00m pipeline  \u001b[39m# noqa: F401\u001b[39;00m\n\u001b[0;32m---> 15\u001b[0m \u001b[39mfrom\u001b[39;00m \u001b[39m.\u001b[39;00m\u001b[39mcli\u001b[39;00m\u001b[39m.\u001b[39;00m\u001b[39minfo\u001b[39;00m \u001b[39mimport\u001b[39;00m info  \u001b[39m# noqa: F401\u001b[39;00m\n\u001b[1;32m     16\u001b[0m \u001b[39mfrom\u001b[39;00m \u001b[39m.\u001b[39;00m\u001b[39mglossary\u001b[39;00m \u001b[39mimport\u001b[39;00m explain  \u001b[39m# noqa: F401\u001b[39;00m\n\u001b[1;32m     17\u001b[0m \u001b[39mfrom\u001b[39;00m \u001b[39m.\u001b[39;00m\u001b[39mabout\u001b[39;00m \u001b[39mimport\u001b[39;00m __version__  \u001b[39m# noqa: F401\u001b[39;00m\n",
      "File \u001b[0;32m~/Library/Python/3.9/lib/python/site-packages/spacy/cli/__init__.py:8\u001b[0m\n\u001b[1;32m      5\u001b[0m \u001b[39m# These are the actual functions, NOT the wrapped CLI commands. The CLI commands\u001b[39;00m\n\u001b[1;32m      6\u001b[0m \u001b[39m# are registered automatically and won't have to be imported here.\u001b[39;00m\n\u001b[1;32m      7\u001b[0m \u001b[39mfrom\u001b[39;00m \u001b[39m.\u001b[39;00m\u001b[39mbenchmark_speed\u001b[39;00m \u001b[39mimport\u001b[39;00m benchmark_speed_cli  \u001b[39m# noqa: F401\u001b[39;00m\n\u001b[0;32m----> 8\u001b[0m \u001b[39mfrom\u001b[39;00m \u001b[39m.\u001b[39;00m\u001b[39mdownload\u001b[39;00m \u001b[39mimport\u001b[39;00m download  \u001b[39m# noqa: F401\u001b[39;00m\n\u001b[1;32m      9\u001b[0m \u001b[39mfrom\u001b[39;00m \u001b[39m.\u001b[39;00m\u001b[39minfo\u001b[39;00m \u001b[39mimport\u001b[39;00m info  \u001b[39m# noqa: F401\u001b[39;00m\n\u001b[1;32m     10\u001b[0m \u001b[39mfrom\u001b[39;00m \u001b[39m.\u001b[39;00m\u001b[39mpackage\u001b[39;00m \u001b[39mimport\u001b[39;00m package  \u001b[39m# noqa: F401\u001b[39;00m\n",
      "File \u001b[0;32m~/Library/Python/3.9/lib/python/site-packages/spacy/cli/download.py:2\u001b[0m\n\u001b[1;32m      1\u001b[0m \u001b[39mfrom\u001b[39;00m \u001b[39mtyping\u001b[39;00m \u001b[39mimport\u001b[39;00m Optional, Sequence\n\u001b[0;32m----> 2\u001b[0m \u001b[39mimport\u001b[39;00m \u001b[39mrequests\u001b[39;00m\n\u001b[1;32m      3\u001b[0m \u001b[39mimport\u001b[39;00m \u001b[39msys\u001b[39;00m\n\u001b[1;32m      4\u001b[0m \u001b[39mfrom\u001b[39;00m \u001b[39mwasabi\u001b[39;00m \u001b[39mimport\u001b[39;00m msg\n",
      "File \u001b[0;32m~/Library/Python/3.9/lib/python/site-packages/requests/__init__.py:43\u001b[0m\n\u001b[1;32m      6\u001b[0m \u001b[39m\"\"\"\u001b[39;00m\n\u001b[1;32m      7\u001b[0m \u001b[39mRequests HTTP Library\u001b[39;00m\n\u001b[1;32m      8\u001b[0m \u001b[39m~~~~~~~~~~~~~~~~~~~~~\u001b[39;00m\n\u001b[0;32m   (...)\u001b[0m\n\u001b[1;32m     38\u001b[0m \u001b[39m:license: Apache 2.0, see LICENSE for more details.\u001b[39;00m\n\u001b[1;32m     39\u001b[0m \u001b[39m\"\"\"\u001b[39;00m\n\u001b[1;32m     41\u001b[0m \u001b[39mimport\u001b[39;00m \u001b[39mwarnings\u001b[39;00m\n\u001b[0;32m---> 43\u001b[0m \u001b[39mimport\u001b[39;00m \u001b[39murllib3\u001b[39;00m\n\u001b[1;32m     45\u001b[0m \u001b[39mfrom\u001b[39;00m \u001b[39m.\u001b[39;00m\u001b[39mexceptions\u001b[39;00m \u001b[39mimport\u001b[39;00m RequestsDependencyWarning\n\u001b[1;32m     47\u001b[0m \u001b[39mtry\u001b[39;00m:\n",
      "File \u001b[0;32m~/Library/Python/3.9/lib/python/site-packages/urllib3/__init__.py:38\u001b[0m\n\u001b[1;32m     32\u001b[0m \u001b[39melse\u001b[39;00m:\n\u001b[1;32m     33\u001b[0m     \u001b[39m# fmt: off\u001b[39;00m\n\u001b[1;32m     34\u001b[0m     \u001b[39mif\u001b[39;00m (\n\u001b[1;32m     35\u001b[0m         \u001b[39mnot\u001b[39;00m ssl\u001b[39m.\u001b[39mOPENSSL_VERSION\u001b[39m.\u001b[39mstartswith(\u001b[39m\"\u001b[39m\u001b[39mOpenSSL \u001b[39m\u001b[39m\"\u001b[39m)\n\u001b[1;32m     36\u001b[0m         \u001b[39mor\u001b[39;00m ssl\u001b[39m.\u001b[39mOPENSSL_VERSION_INFO \u001b[39m<\u001b[39m (\u001b[39m1\u001b[39m, \u001b[39m1\u001b[39m, \u001b[39m1\u001b[39m)\n\u001b[1;32m     37\u001b[0m     ):  \u001b[39m# Defensive:\u001b[39;00m\n\u001b[0;32m---> 38\u001b[0m         \u001b[39mraise\u001b[39;00m \u001b[39mImportError\u001b[39;00m(\n\u001b[1;32m     39\u001b[0m             \u001b[39m\"\u001b[39m\u001b[39murllib3 v2.0 only supports OpenSSL 1.1.1+, currently \u001b[39m\u001b[39m\"\u001b[39m\n\u001b[1;32m     40\u001b[0m             \u001b[39mf\u001b[39m\u001b[39m\"\u001b[39m\u001b[39mthe \u001b[39m\u001b[39m'\u001b[39m\u001b[39mssl\u001b[39m\u001b[39m'\u001b[39m\u001b[39m module is compiled with \u001b[39m\u001b[39m{\u001b[39;00mssl\u001b[39m.\u001b[39mOPENSSL_VERSION\u001b[39m}\u001b[39;00m\u001b[39m. \u001b[39m\u001b[39m\"\u001b[39m\n\u001b[1;32m     41\u001b[0m             \u001b[39m\"\u001b[39m\u001b[39mSee: https://github.com/urllib3/urllib3/issues/2168\u001b[39m\u001b[39m\"\u001b[39m\n\u001b[1;32m     42\u001b[0m         )\n\u001b[1;32m     43\u001b[0m     \u001b[39m# fmt: on\u001b[39;00m\n\u001b[1;32m     44\u001b[0m \n\u001b[1;32m     45\u001b[0m \u001b[39m# === NOTE TO REPACKAGERS AND VENDORS ===\u001b[39;00m\n\u001b[1;32m     46\u001b[0m \u001b[39m# Please delete this block, this logic is only\u001b[39;00m\n\u001b[1;32m     47\u001b[0m \u001b[39m# for urllib3 being distributed via PyPI.\u001b[39;00m\n\u001b[1;32m     48\u001b[0m \u001b[39m# See: https://github.com/urllib3/urllib3/issues/2680\u001b[39;00m\n\u001b[1;32m     49\u001b[0m \u001b[39mtry\u001b[39;00m:\n",
      "\u001b[0;31mImportError\u001b[0m: urllib3 v2.0 only supports OpenSSL 1.1.1+, currently the 'ssl' module is compiled with LibreSSL 2.8.3. See: https://github.com/urllib3/urllib3/issues/2168"
     ]
    }
   ],
   "source": [
    "import spacy\n",
    "def find_top_five(my_file_name):\n",
    "    top_five_tokens = {}\n",
    "    # here comes your code\n",
    "    return top_five_tokens"
   ]
  },
  {
   "attachments": {},
   "cell_type": "markdown",
   "metadata": {},
   "source": [
    "### Task 2 (2 points)\n",
    "\n",
    "Write a function `extract_proper_nouns(my_file_name)` that takes a file name as input and returns a list containing all proper nouns with more than one token.\n",
    "\n",
    "**Example:**\n",
    "\n",
    "text = \"Honk Kong and Japan are two countries in Asia and New York is the largest city in the world\"\n",
    "\n",
    "return = `[\"New York\", \"Hong Kong\"]` **(Note: it should not return \"Japan\")**"
   ]
  },
  {
   "cell_type": "code",
   "execution_count": null,
   "metadata": {},
   "outputs": [],
   "source": [
    "def extract_proper_nouns(my_file_name):\n",
    "    several_token_propn = []\n",
    "    # here comes your code\n",
    "    return several_token_propn"
   ]
  },
  {
   "attachments": {},
   "cell_type": "markdown",
   "metadata": {},
   "source": [
    "### Task 3 (3 points)\n",
    "\n",
    "Write a function `common_lemma(my_file_name)` that takes a file name as input and returns a Python dictionary with lemmas as `key` and the `value` that should contain a list with both verbs and nouns sharing the same lemma.\n",
    "\n",
    "**Examples:**\n",
    "\n",
    "1.\n",
    "text = \"When users google a word or any query, their system internally runs a pipeline in order to process what the person is querying.\"\n",
    "\n",
    "return = `{\"query\": [\"query\", \"querying\"]}`\n",
    "\n",
    "2.\n",
    "text = \"I really loved the movie and show, the movie was showing reality but it showed sometimes nonesense!\"\n",
    "\n",
    "return = `{\"show\": [\"show\", \"showing\", \"showed\"]}` **(Note: it should not return \"movie\" because both \"movie\"s are NOUN)**"
   ]
  },
  {
   "cell_type": "code",
   "execution_count": null,
   "metadata": {},
   "outputs": [],
   "source": [
    "def common_lemma(my_file_name):\n",
    "    tokens_with_common_lemma = {}\n",
    "    # here comes your code\n",
    "    return tokens_with_common_lemma"
   ]
  },
  {
   "attachments": {},
   "cell_type": "markdown",
   "metadata": {},
   "source": [
    "### Task 4 (3 points)\n",
    "\n",
    "Write a function `token_matcher(string)` that takes the following text as input and prints a list of all the engineering courses mentioned in it + the total number of engineering courses.\n",
    "\n",
    "**Hint:** You should use `Matcher` in SpaCy and define a pattern for it."
   ]
  },
  {
   "cell_type": "code",
   "execution_count": null,
   "metadata": {},
   "outputs": [],
   "source": [
    "text = \"\"\"If you choose to study chemical engineering, you may like to specialize in chemical reaction engineering, plant design, process engineering, process design or transport phenomena. Civil engineering is the professional practice of designing and developing infrastructure projects. This can be on a huge scale, such as the development of\n",
    "nationwide transport systems or water supply networks, or on a smaller scale, such as the development of single roads or buildings.\n",
    "specializations of civil engineering include structural engineering, architectural engineering, transportation engineering, geotechnical engineering,\n",
    "environmental engineering and hydraulic engineering. If you study aeronautical engineering, you could specialize in aerodynamics, aeroelasticity, \n",
    "composites analysis, avionics, propulsion and structures and materials. Computer engineering concerns the design and prototyping of computing hardware and software. \n",
    "This subject merges electrical engineering with computer science, oldest and broadest types of engineering, mechanical engineering is concerned with the design,\n",
    "manufacturing and maintenance of mechanical systems.\"\"\"\n",
    "\n",
    "def token_matcher(string):\n",
    "    engineering_courses = []\n",
    "    total_num_courses = ...\n",
    "    # here comes your code\n",
    "    print('engineering courses:', engineering_courses,\n",
    "          'total number of courses:', total_num_courses)"
   ]
  }
 ],
 "metadata": {
  "kernelspec": {
   "display_name": "Python 3",
   "language": "python",
   "name": "python3"
  },
  "language_info": {
   "codemirror_mode": {
    "name": "ipython",
    "version": 3
   },
   "file_extension": ".py",
   "mimetype": "text/x-python",
   "name": "python",
   "nbconvert_exporter": "python",
   "pygments_lexer": "ipython3",
   "version": "3.9.6"
  }
 },
 "nbformat": 4,
 "nbformat_minor": 5
}
