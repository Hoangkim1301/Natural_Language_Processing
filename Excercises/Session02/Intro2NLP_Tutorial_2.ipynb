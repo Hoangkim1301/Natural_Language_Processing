{
 "cells": [
  {
   "cell_type": "markdown",
   "metadata": {},
   "source": [
    "# Introduction to Natural Language Processing\n",
    "\n",
    "## Tutorial 2\n",
    "\n",
    "In our last session we could observe some functionality about jupyter notebooks: `?` and also `!` as well as how to `import` libraries and how the `\"hello world\"` in Python looks like. \n",
    "\n",
    "Today, we will take a look at a couple of more details. Jupyter Notebooks are very useful, given that they allow to execute code in cells. If you hit `shift + enter`, that will execute the current cell where you are located. Additionally, you can include only text in markdown language or html, as in this cell or you can run code as in some cells below.\n",
    "\n",
    "Let's begin..."
   ]
  },
  {
   "cell_type": "markdown",
   "metadata": {},
   "source": [
    "# PYTHON BASICS"
   ]
  },
  {
   "cell_type": "markdown",
   "metadata": {},
   "source": [
    "## Arrays and Hash Maps are called Lists and Dictionaries \n",
    "\n",
    "What we commonly know as an array is called in Python a list. Similarly we have also a dictionary as data structure which are like lookup tables. One interesting aspect here is that we can mix several types into this structures."
   ]
  },
  {
   "cell_type": "code",
   "execution_count": null,
   "metadata": {},
   "outputs": [],
   "source": [
    "my_list = [my_string, my_integer, my_slice, my_float]"
   ]
  },
  {
   "cell_type": "code",
   "execution_count": null,
   "metadata": {},
   "outputs": [],
   "source": [
    "print(my_list)"
   ]
  },
  {
   "cell_type": "code",
   "execution_count": null,
   "metadata": {},
   "outputs": [],
   "source": [
    "another_list = my_string.split(\" \") + my_list"
   ]
  },
  {
   "cell_type": "code",
   "execution_count": null,
   "metadata": {},
   "outputs": [],
   "source": [
    "print(another_list)"
   ]
  },
  {
   "cell_type": "code",
   "execution_count": null,
   "metadata": {},
   "outputs": [],
   "source": [
    "my_list.append(my_string.split(\" \"))"
   ]
  },
  {
   "cell_type": "code",
   "execution_count": null,
   "metadata": {},
   "outputs": [],
   "source": [
    "print(my_list)"
   ]
  },
  {
   "cell_type": "code",
   "execution_count": null,
   "metadata": {},
   "outputs": [],
   "source": [
    "my_dict = {\"a\": 1, \"b\":2, \"c\": 3, \"d\": my_list}"
   ]
  },
  {
   "cell_type": "code",
   "execution_count": null,
   "metadata": {},
   "outputs": [],
   "source": [
    "print(my_dict)"
   ]
  },
  {
   "cell_type": "markdown",
   "metadata": {},
   "source": [
    "## Defining Functions\n",
    "\n",
    "Here we can start giving instructions and creating a recipe of what we want to obtain.\n",
    "\n",
    "Let's say that we want a function to return always the last letter of a word in a string"
   ]
  },
  {
   "cell_type": "code",
   "execution_count": null,
   "metadata": {},
   "outputs": [],
   "source": [
    "this_string = \"Introduction to Natural Language Processing, tutorial two\""
   ]
  },
  {
   "cell_type": "code",
   "execution_count": null,
   "metadata": {},
   "outputs": [],
   "source": [
    "def extract_last_letter(any_string):\n",
    "    word_list = any_string.split(\" \")\n",
    "    letter_list = []\n",
    "    for word in word_list:\n",
    "        letter_list.append(word[-1])\n",
    "    return letter_list"
   ]
  },
  {
   "cell_type": "code",
   "execution_count": null,
   "metadata": {},
   "outputs": [],
   "source": [
    "my_letter_list = extract_last_letter(this_string)"
   ]
  },
  {
   "cell_type": "code",
   "execution_count": null,
   "metadata": {},
   "outputs": [],
   "source": [
    "print(my_letter_list)"
   ]
  },
  {
   "cell_type": "markdown",
   "metadata": {},
   "source": [
    "## It's time for you to play around\n",
    "\n",
    "Create a function that returns every word in a string in lowercase and and another one for uppercase\n",
    "\n",
    "**Hint:** explore the funtions `upper` and `lower`"
   ]
  },
  {
   "cell_type": "code",
   "execution_count": null,
   "metadata": {},
   "outputs": [],
   "source": [
    "def return_lower(any_string):\n",
    "    # here comes your code"
   ]
  },
  {
   "cell_type": "code",
   "execution_count": null,
   "metadata": {},
   "outputs": [],
   "source": [
    "print(return_lower(this_string))"
   ]
  },
  {
   "cell_type": "code",
   "execution_count": null,
   "metadata": {},
   "outputs": [],
   "source": [
    "def return_upper(any_string):\n",
    "    # here comes your code"
   ]
  },
  {
   "cell_type": "code",
   "execution_count": null,
   "metadata": {},
   "outputs": [],
   "source": [
    "print(return_upper(this_string))"
   ]
  },
  {
   "attachments": {},
   "cell_type": "markdown",
   "metadata": {},
   "source": [
    "## Iterating\n",
    "\n",
    "There are several ways of iterating, you can use the `enumerate()` method or you can combine `for`, `range` and the \n",
    "`length` of your type. Please make sure that you use meaningful names here. \n",
    "\n",
    "Let's look at an example let's create a function that returns a mapping of each word in a string and its index."
   ]
  },
  {
   "cell_type": "code",
   "execution_count": null,
   "metadata": {},
   "outputs": [],
   "source": [
    "def map_word_to_index(any_string):\n",
    "    word_list = any_string.split(\" \")\n",
    "    my_mapping = {}\n",
    "    for index in range(len(word_list)):\n",
    "        my_mapping[word_list[index]] = index\n",
    "    return my_mapping"
   ]
  },
  {
   "cell_type": "code",
   "execution_count": null,
   "metadata": {},
   "outputs": [],
   "source": [
    "print(map_word_to_index(this_string))"
   ]
  },
  {
   "cell_type": "markdown",
   "metadata": {},
   "source": [
    "Now: try to explore the `enumerate()` method and write a similar function to return a list with only words with *even* indexes."
   ]
  },
  {
   "cell_type": "code",
   "execution_count": null,
   "metadata": {
    "scrolled": true
   },
   "outputs": [],
   "source": [
    "def extract_even_words(any_string):\n",
    "    # here comes your code"
   ]
  },
  {
   "cell_type": "code",
   "execution_count": null,
   "metadata": {},
   "outputs": [],
   "source": [
    "print(extract_even_words(this_string))"
   ]
  },
  {
   "attachments": {},
   "cell_type": "markdown",
   "metadata": {},
   "source": [
    "## Reading text files\n",
    "\n",
    "We want to know is how to read files in Python. There are several possibilities of using `open()`, which is the function to work with files. My favorite is to use `with` as a safe option."
   ]
  },
  {
   "cell_type": "code",
   "execution_count": null,
   "id": "8d528d5a",
   "metadata": {},
   "outputs": [],
   "source": []
  },
  {
   "cell_type": "code",
   "execution_count": null,
   "metadata": {},
   "outputs": [],
   "source": [
    "with open(\"tweet.txt\", 'r') as my_file:\n",
    "    for line in my_file:\n",
    "        print(line)"
   ]
  },
  {
   "cell_type": "code",
   "execution_count": null,
   "id": "33789902",
   "metadata": {},
   "outputs": [],
   "source": []
  },
  {
   "attachments": {},
   "cell_type": "markdown",
   "id": "44e5418e",
   "metadata": {},
   "source": [
    "## Reading CSV files"
   ]
  },
  {
   "cell_type": "code",
   "execution_count": null,
   "id": "faa14dff",
   "metadata": {},
   "outputs": [],
   "source": [
    "import pandas as pd\n"
   ]
  },
  {
   "cell_type": "code",
   "execution_count": null,
   "id": "8acb24f3",
   "metadata": {},
   "outputs": [],
   "source": [
    "survey = pd.read_csv('survey.csv')"
   ]
  },
  {
   "cell_type": "code",
   "execution_count": null,
   "id": "84265072",
   "metadata": {},
   "outputs": [],
   "source": [
    "survey"
   ]
  },
  {
   "cell_type": "code",
   "execution_count": null,
   "id": "9a480798",
   "metadata": {},
   "outputs": [],
   "source": [
    "# get the length of the dataframe\n",
    "len(survey)"
   ]
  },
  {
   "cell_type": "code",
   "execution_count": null,
   "id": "87395cf4",
   "metadata": {},
   "outputs": [],
   "source": [
    "# get the first 5 rows of the dataframe\n",
    "survey[:5]"
   ]
  },
  {
   "cell_type": "code",
   "execution_count": null,
   "id": "5dddfc5e",
   "metadata": {},
   "outputs": [],
   "source": [
    "survey.columns"
   ]
  },
  {
   "cell_type": "code",
   "execution_count": null,
   "id": "4d3d18bb",
   "metadata": {},
   "outputs": [],
   "source": [
    "survey.iloc[2]"
   ]
  },
  {
   "cell_type": "code",
   "execution_count": null,
   "id": "9a89939e",
   "metadata": {},
   "outputs": [],
   "source": [
    "# group by city and count the number of people in each city\n",
    "survey.groupby('Where are you?  (City)')['Alias'].count()"
   ]
  },
  {
   "cell_type": "markdown",
   "id": "228155c4",
   "metadata": {},
   "source": []
  }
 ],
 "metadata": {
  "kernelspec": {
   "display_name": "Python 3",
   "language": "python",
   "name": "python3"
  },
  "language_info": {
   "codemirror_mode": {
    "name": "ipython",
    "version": 3
   },
   "file_extension": ".py",
   "mimetype": "text/x-python",
   "name": "python",
   "nbconvert_exporter": "python",
   "pygments_lexer": "ipython3",
   "version": "3.10.4"
  }
 },
 "nbformat": 4,
 "nbformat_minor": 5
}
